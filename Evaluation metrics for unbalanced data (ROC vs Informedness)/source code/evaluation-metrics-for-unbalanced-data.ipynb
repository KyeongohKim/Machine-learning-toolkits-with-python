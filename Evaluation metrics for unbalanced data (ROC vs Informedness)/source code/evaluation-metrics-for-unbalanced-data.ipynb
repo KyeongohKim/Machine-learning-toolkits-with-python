{
 "cells": [
  {
   "cell_type": "code",
   "execution_count": 209,
   "metadata": {
    "collapsed": true
   },
   "outputs": [],
   "source": [
    "import numpy as np\n",
    "import matplotlib.pyplot as plt\n",
    "\n",
    "from sklearn import datasets\n",
    "from sklearn.svm import SVC\n",
    "from sklearn.metrics import accuracy_score, f1_score, classification_report, confusion_matrix, roc_curve, roc_auc_score, auc, average_precision_score\n",
    "from sklearn.model_selection import train_test_split\n",
    "from collections import Counter\n",
    "from sklearn.ensemble import RandomForestClassifier"
   ]
  },
  {
   "cell_type": "markdown",
   "metadata": {},
   "source": [
    "### Load Dataset\n",
    "- Binary classification data (breat cancer data)\n",
    "- Calibrate the class ratio to make it a bit more unbalanced; this step can be negelected or modified"
   ]
  },
  {
   "cell_type": "code",
   "execution_count": 180,
   "metadata": {
    "collapsed": true
   },
   "outputs": [],
   "source": [
    "data = datasets.load_breast_cancer()"
   ]
  },
  {
   "cell_type": "code",
   "execution_count": 181,
   "metadata": {
    "collapsed": true
   },
   "outputs": [],
   "source": [
    "X_data = data.data\n",
    "y_data = data.target    "
   ]
  },
  {
   "cell_type": "code",
   "execution_count": 182,
   "metadata": {},
   "outputs": [
    {
     "name": "stdout",
     "output_type": "stream",
     "text": [
      "Counter({1: 357, 0: 212})\n"
     ]
    }
   ],
   "source": [
    "# original data has 212 '0' (malignant) and 357 '1' (benign) class labels\n",
    "counts = Counter(y_data)\n",
    "print(counts)     "
   ]
  },
  {
   "cell_type": "code",
   "execution_count": 183,
   "metadata": {
    "collapsed": true
   },
   "outputs": [],
   "source": [
    "y_data = y_data.reshape((y_data.shape[0], 1))"
   ]
  },
  {
   "cell_type": "code",
   "execution_count": 185,
   "metadata": {
    "collapsed": true
   },
   "outputs": [],
   "source": [
    "data_merged = np.concatenate((X_data, y_data), axis = 1)"
   ]
  },
  {
   "cell_type": "code",
   "execution_count": 187,
   "metadata": {
    "collapsed": true
   },
   "outputs": [],
   "source": [
    "data_merged = data_merged[data_merged[:, -1].argsort()]"
   ]
  },
  {
   "cell_type": "code",
   "execution_count": 227,
   "metadata": {
    "collapsed": true
   },
   "outputs": [],
   "source": [
    "imbal_data = data_merged[50:]"
   ]
  },
  {
   "cell_type": "code",
   "execution_count": 228,
   "metadata": {
    "collapsed": true
   },
   "outputs": [],
   "source": [
    "X_data = imbal_data[:, :-1]\n",
    "y_data = imbal_data[:, -1]"
   ]
  },
  {
   "cell_type": "code",
   "execution_count": 229,
   "metadata": {},
   "outputs": [
    {
     "name": "stdout",
     "output_type": "stream",
     "text": [
      "Counter({1.0: 357, 0.0: 162})\n"
     ]
    }
   ],
   "source": [
    "# now, we have a slightly more unbalanced dataset of about 2:1\n",
    "counts = Counter(y_data)\n",
    "print(counts)    "
   ]
  },
  {
   "cell_type": "code",
   "execution_count": 231,
   "metadata": {
    "collapsed": true
   },
   "outputs": [],
   "source": [
    "X_train, X_test, y_train, y_test = train_test_split(X_data, y_data, test_size = 0.3, random_state = 7)    # split data into train & test set"
   ]
  },
  {
   "cell_type": "markdown",
   "metadata": {},
   "source": [
    "### Create model\n",
    "- Create a classification model\n",
    "- Verify its overall performance (rand accuracy, precision, recall, f1-score, etc.)"
   ]
  },
  {
   "cell_type": "code",
   "execution_count": 232,
   "metadata": {},
   "outputs": [
    {
     "data": {
      "text/plain": [
       "RandomForestClassifier(bootstrap=True, class_weight=None, criterion='gini',\n",
       "            max_depth=None, max_features='auto', max_leaf_nodes=None,\n",
       "            min_impurity_split=1e-07, min_samples_leaf=1,\n",
       "            min_samples_split=2, min_weight_fraction_leaf=0.0,\n",
       "            n_estimators=10, n_jobs=1, oob_score=False, random_state=None,\n",
       "            verbose=0, warm_start=False)"
      ]
     },
     "execution_count": 232,
     "metadata": {},
     "output_type": "execute_result"
    }
   ],
   "source": [
    "clf = RandomForestClassifier() \n",
    "clf.fit(X_train, y_train)"
   ]
  },
  {
   "cell_type": "code",
   "execution_count": 233,
   "metadata": {
    "collapsed": true
   },
   "outputs": [],
   "source": [
    "y_pred = clf.predict(X_test)"
   ]
  },
  {
   "cell_type": "code",
   "execution_count": 234,
   "metadata": {},
   "outputs": [
    {
     "name": "stdout",
     "output_type": "stream",
     "text": [
      "0.929487179487\n"
     ]
    }
   ],
   "source": [
    "print(accuracy_score(y_test, y_pred))    # 92.9% of rand accuracy"
   ]
  },
  {
   "cell_type": "code",
   "execution_count": 236,
   "metadata": {},
   "outputs": [
    {
     "name": "stdout",
     "output_type": "stream",
     "text": [
      "[ 0.  0.  0.  1.  0.  1.  1.  1.  1.  0.  1.  1.  1.  1.  1.  1.  1.  1.\n",
      "  1.  0.  1.  0.  1.  1.  1.  1.  1.  0.  1.  0.  1.  1.  0.  1.  1.  1.\n",
      "  1.  1.  0.  1.  1.  0.  0.  1.  1.  1.  1.  1.  1.  1.  1.  1.  0.  1.\n",
      "  1.  0.  1.  1.  1.  1.  1.  0.  1.  1.  0.  1.  1.  1.  1.  1.  1.  1.\n",
      "  1.  1.  0.  1.  1.  1.  0.  1.  0.  1.  1.  1.  1.  0.  1.  1.  1.  1.\n",
      "  0.  1.  0.  1.  0.  1.  0.  1.  1.  0.  0.  1.  0.  1.  1.  1.  0.  1.\n",
      "  0.  0.  1.  1.  1.  1.  1.  1.  0.  1.  1.  1.  1.  1.  0.  1.  1.  0.\n",
      "  1.  1.  0.  1.  1.  1.  1.  0.  1.  0.  1.  0.  0.  1.  0.  1.  0.  0.\n",
      "  1.  1.  1.  1.  0.  1.  1.  1.  1.  1.  0.  0.]\n",
      "[ 1.  0.  0.  1.  0.  1.  1.  1.  1.  0.  1.  1.  1.  1.  1.  1.  1.  1.\n",
      "  1.  0.  1.  0.  1.  1.  1.  1.  1.  0.  1.  0.  1.  1.  0.  1.  1.  1.\n",
      "  1.  1.  0.  1.  1.  0.  0.  1.  1.  1.  1.  1.  1.  1.  0.  1.  0.  1.\n",
      "  1.  0.  1.  1.  0.  1.  1.  0.  1.  1.  0.  1.  1.  1.  1.  1.  1.  1.\n",
      "  1.  1.  0.  1.  1.  1.  0.  1.  0.  1.  1.  1.  1.  0.  1.  1.  1.  1.\n",
      "  0.  1.  1.  0.  0.  1.  0.  1.  1.  1.  0.  1.  0.  1.  1.  1.  0.  1.\n",
      "  0.  0.  1.  1.  1.  1.  1.  1.  0.  1.  1.  1.  1.  1.  0.  1.  1.  0.\n",
      "  1.  1.  1.  1.  0.  1.  0.  0.  1.  0.  1.  0.  0.  1.  0.  1.  1.  0.\n",
      "  1.  1.  1.  0.  0.  1.  1.  1.  1.  1.  0.  0.]\n"
     ]
    }
   ],
   "source": [
    "print(y_pred)\n",
    "print(y_test)"
   ]
  },
  {
   "cell_type": "code",
   "execution_count": 237,
   "metadata": {},
   "outputs": [
    {
     "name": "stdout",
     "output_type": "stream",
     "text": [
      "[[ 40   6]\n",
      " [  5 105]]\n"
     ]
    }
   ],
   "source": [
    "confusion_mat = confusion_matrix(y_test, y_pred)\n",
    "print(confusion_mat)    # show confusion matrix"
   ]
  },
  {
   "cell_type": "code",
   "execution_count": 238,
   "metadata": {},
   "outputs": [
    {
     "name": "stdout",
     "output_type": "stream",
     "text": [
      "             precision    recall  f1-score   support\n",
      "\n",
      "        0.0       0.89      0.87      0.88        46\n",
      "        1.0       0.95      0.95      0.95       110\n",
      "\n",
      "avg / total       0.93      0.93      0.93       156\n",
      "\n"
     ]
    }
   ],
   "source": [
    "print(classification_report(y_test, y_pred))"
   ]
  },
  {
   "cell_type": "markdown",
   "metadata": {},
   "source": [
    "### 1. ROC curve\n",
    "- Create ROC curve and calculate ROC_AUC score"
   ]
  },
  {
   "cell_type": "code",
   "execution_count": 239,
   "metadata": {
    "collapsed": true
   },
   "outputs": [],
   "source": [
    "y_score = clf.predict_proba(X_test)    # predict probabilities of each data instance to calculate the ROC curve"
   ]
  },
  {
   "cell_type": "code",
   "execution_count": 240,
   "metadata": {
    "collapsed": true
   },
   "outputs": [],
   "source": [
    "y_score = np.array(y_score[:, -1], dtype = np.float32)"
   ]
  },
  {
   "cell_type": "code",
   "execution_count": 253,
   "metadata": {},
   "outputs": [
    {
     "name": "stdout",
     "output_type": "stream",
     "text": [
      "[ 0.5         0.30000001  0.          1.          0.1         1.          1.\n",
      "  1.          1.          0.1         1.          1.          1.          1.\n",
      "  1.          1.          0.89999998  0.89999998  1.          0.\n",
      "  0.80000001  0.          1.          1.          1.          1.          1.\n",
      "  0.          1.          0.          1.          1.          0.          1.\n",
      "  0.89999998  1.          1.          1.          0.          1.          1.\n",
      "  0.1         0.          0.89999998  1.          0.89999998  1.          1.\n",
      "  1.          1.          0.80000001  1.          0.          1.          1.\n",
      "  0.          1.          1.          0.60000002  1.          0.89999998\n",
      "  0.          1.          0.80000001  0.1         1.          1.          1.\n",
      "  1.          1.          1.          1.          1.          1.          0.\n",
      "  1.          0.69999999  1.          0.          1.          0.          1.\n",
      "  1.          1.          1.          0.          1.          1.          1.\n",
      "  0.60000002  0.          0.80000001  0.40000001  0.89999998  0.          1.\n",
      "  0.          1.          1.          0.40000001  0.          1.          0.\n",
      "  0.89999998  0.89999998  1.          0.          1.          0.          0.2\n",
      "  1.          0.89999998  1.          1.          1.          1.\n",
      "  0.30000001  1.          1.          1.          1.          0.60000002\n",
      "  0.          0.89999998  1.          0.          1.          1.\n",
      "  0.40000001  1.          0.69999999  0.60000002  0.69999999  0.2         1.\n",
      "  0.          1.          0.          0.          1.          0.1         1.\n",
      "  0.30000001  0.          1.          1.          1.          0.89999998\n",
      "  0.          1.          0.80000001  0.69999999  1.          1.          0.\n",
      "  0.        ]\n"
     ]
    }
   ],
   "source": [
    "print(y_score)"
   ]
  },
  {
   "cell_type": "code",
   "execution_count": 242,
   "metadata": {},
   "outputs": [
    {
     "name": "stdout",
     "output_type": "stream",
     "text": [
      "0.985079051383\n"
     ]
    }
   ],
   "source": [
    "print(roc_auc_score(y_test, y_score))"
   ]
  },
  {
   "cell_type": "code",
   "execution_count": 243,
   "metadata": {
    "collapsed": true
   },
   "outputs": [],
   "source": [
    "fpr, tpr, _ = roc_curve(y_test, y_score)"
   ]
  },
  {
   "cell_type": "code",
   "execution_count": 244,
   "metadata": {},
   "outputs": [
    {
     "name": "stderr",
     "output_type": "stream",
     "text": [
      "C:\\Users\\Buomsoo\\Anaconda3\\lib\\site-packages\\matplotlib\\axes\\_axes.py:545: UserWarning: No labelled objects found. Use label='...' kwarg on individual plots.\n",
      "  warnings.warn(\"No labelled objects found. \"\n"
     ]
    },
    {
     "data": {
      "image/png": "[encoded data removed]",
      "text/plain": [
       "<matplotlib.figure.Figure at 0x16bb33b3a58>"
      ]
     },
     "metadata": {},
     "output_type": "display_data"
    }
   ],
   "source": [
    "plt.plot(fpr, tpr, color= 'red', lw = 2)\n",
    "plt.plot([0, 1], [0, 1], color='navy', lw=2)\n",
    "plt.xlim([0.0, 1.0])\n",
    "plt.ylim([0.0, 1.05])\n",
    "plt.xlabel('False Positive Rate')\n",
    "plt.ylabel('True Positive Rate')\n",
    "plt.title('Receiver operating characteristic example')\n",
    "plt.legend(loc=\"lower right\")\n",
    "plt.show()"
   ]
  },
  {
   "cell_type": "markdown",
   "metadata": {},
   "source": [
    "### 2. Bookmaker's Informedness\n",
    "- Calculate bookmaker's informedness & markedness\n",
    "- Definition (Powers 2011)\n",
    "    - \"Informedness quantifies how informed a predictor is for the specified condition, and specifies the probability that a prediction is informed in relation to the condition (versus chance)\"\n",
    "    - \"Markedness quantifies how marked a condition is for the specified predictor, and specifies the probability that a condition is marked by the predictor (versus chance)\""
   ]
  },
  {
   "cell_type": "code",
   "execution_count": 247,
   "metadata": {
    "collapsed": true
   },
   "outputs": [],
   "source": [
    "tn, fp, fn, tp = confusion_mat.ravel()"
   ]
  },
  {
   "cell_type": "code",
   "execution_count": 248,
   "metadata": {},
   "outputs": [
    {
     "name": "stdout",
     "output_type": "stream",
     "text": [
      "40 6 5 105\n"
     ]
    }
   ],
   "source": [
    "print(tn, fp, fn, tp)"
   ]
  },
  {
   "cell_type": "code",
   "execution_count": 249,
   "metadata": {
    "collapsed": true
   },
   "outputs": [],
   "source": [
    "recall = tp / (tp + fn)\n",
    "inverse_recall = tn / (fp + tn)\n",
    "precision = tp / (tp + fp)\n",
    "inverse_precision = tn / (fn + tn)"
   ]
  },
  {
   "cell_type": "code",
   "execution_count": 254,
   "metadata": {
    "collapsed": true
   },
   "outputs": [],
   "source": [
    "informedness = recall + inverse_recall - 1\n",
    "markedness = precision + inverse_precision - 1"
   ]
  },
  {
   "cell_type": "code",
   "execution_count": 256,
   "metadata": {},
   "outputs": [
    {
     "name": "stdout",
     "output_type": "stream",
     "text": [
      "Informedness:  0.824110671937\n",
      "Markedness:  0.834834834835\n"
     ]
    }
   ],
   "source": [
    "print('Informedness: ', informedness)\n",
    "print('Markedness: ', markedness)"
   ]
  }
 ],
 "metadata": {
  "kernelspec": {
   "display_name": "Python 3",
   "language": "python",
   "name": "python3"
  },
  "language_info": {
   "codemirror_mode": {
    "name": "ipython",
    "version": 3
   },
   "file_extension": ".py",
   "mimetype": "text/x-python",
   "name": "python",
   "nbconvert_exporter": "python",
   "pygments_lexer": "ipython3",
   "version": "3.6.1"
  }
 },
 "nbformat": 4,
 "nbformat_minor": 2
}
