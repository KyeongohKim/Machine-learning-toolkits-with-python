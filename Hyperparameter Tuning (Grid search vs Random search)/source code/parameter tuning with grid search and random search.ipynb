{
 "cells": [
  {
   "cell_type": "code",
   "execution_count": 21,
   "metadata": {},
   "outputs": [],
   "source": [
    "import numpy as np\n",
    "import scipy\n",
    "\n",
    "from scipy.stats import randint, uniform\n",
    "from sklearn import datasets\n",
    "from sklearn.model_selection  import train_test_split, GridSearchCV, RandomizedSearchCV\n",
    "from sklearn.neural_network import MLPClassifier"
   ]
  },
  {
   "cell_type": "markdown",
   "metadata": {},
   "source": [
    "## Load Dataset\n",
    "- Load 'digits' dataset in Scikit-learn\n",
    "- http://scikit-learn.org/stable/modules/generated/sklearn.datasets.load_digits.html"
   ]
  },
  {
   "cell_type": "code",
   "execution_count": 3,
   "metadata": {
    "collapsed": true
   },
   "outputs": [],
   "source": [
    "data = datasets.load_digits()"
   ]
  },
  {
   "cell_type": "code",
   "execution_count": 4,
   "metadata": {},
   "outputs": [],
   "source": [
    "X_data = data.images   # load X_data\n",
    "y_data = data.target   # load y_data"
   ]
  },
  {
   "cell_type": "code",
   "execution_count": 5,
   "metadata": {
    "collapsed": true
   },
   "outputs": [],
   "source": [
    "X_data = X_data.reshape(X_data.shape[0], X_data.shape[1] * X_data.shape[2])    # flatten X_data"
   ]
  },
  {
   "cell_type": "code",
   "execution_count": 6,
   "metadata": {},
   "outputs": [
    {
     "name": "stdout",
     "output_type": "stream",
     "text": [
      "(1797, 64)\n",
      "(1797,)\n"
     ]
    }
   ],
   "source": [
    "print(X_data.shape)\n",
    "print(y_data.shape)"
   ]
  },
  {
   "cell_type": "code",
   "execution_count": 7,
   "metadata": {
    "collapsed": true
   },
   "outputs": [],
   "source": [
    "X_train, X_test, y_train, y_test = train_test_split(X_data, y_data, test_size = 0.2, random_state = 7)    # split data into train & test set"
   ]
  },
  {
   "cell_type": "code",
   "execution_count": 8,
   "metadata": {},
   "outputs": [
    {
     "data": {
      "text/plain": [
       "MLPClassifier(activation='relu', alpha=0.0001, batch_size='auto', beta_1=0.9,\n",
       "       beta_2=0.999, early_stopping=False, epsilon=1e-08,\n",
       "       hidden_layer_sizes=(5, 5), learning_rate='constant',\n",
       "       learning_rate_init=0.001, max_iter=200, momentum=0.9,\n",
       "       nesterovs_momentum=True, power_t=0.5, random_state=None,\n",
       "       shuffle=True, solver='adam', tol=0.0001, validation_fraction=0.1,\n",
       "       verbose=False, warm_start=False)"
      ]
     },
     "execution_count": 8,
     "metadata": {},
     "output_type": "execute_result"
    }
   ],
   "source": [
    "clf = MLPClassifier(hidden_layer_sizes = (5, 5))   # create a MLP with two hidden layers with five neurons\n",
    "clf"
   ]
  },
  {
   "cell_type": "markdown",
   "metadata": {},
   "source": [
    "## Grid Search"
   ]
  },
  {
   "cell_type": "code",
   "execution_count": 11,
   "metadata": {},
   "outputs": [],
   "source": [
    "# assign parameters for grid search\n",
    "activation = ['tanh', 'relu']\n",
    "solver = ['sgd', 'adam']\n",
    "batch_size = [50, 100]\n",
    "learning_rate_init = [0.1, 0.01, 0.001]\n",
    "max_iter = [200, 300, 400, 500]"
   ]
  },
  {
   "cell_type": "code",
   "execution_count": 12,
   "metadata": {
    "collapsed": true
   },
   "outputs": [],
   "source": [
    "# create a dictionary to carry parameter settings\n",
    "parameters = dict(activation = activation, solver = solver, batch_size = batch_size, learning_rate_init = learning_rate_init, max_iter = max_iter)"
   ]
  },
  {
   "cell_type": "code",
   "execution_count": 13,
   "metadata": {},
   "outputs": [],
   "source": [
    "searcher = GridSearchCV(estimator = clf, param_grid = parameters, cv = 5, scoring = 'accuracy')"
   ]
  },
  {
   "cell_type": "code",
   "execution_count": 14,
   "metadata": {
    "scrolled": true
   },
   "outputs": [
    {
     "name": "stderr",
     "output_type": "stream",
     "text": [
      "C:\\Users\\Buomsoo\\Anaconda3\\lib\\site-packages\\sklearn\\neural_network\\multilayer_perceptron.py:563: ConvergenceWarning: Stochastic Optimizer: Maximum iterations reached and the optimization hasn't converged yet.\n",
      "  % (), ConvergenceWarning)\n",
      "C:\\Users\\Buomsoo\\Anaconda3\\lib\\site-packages\\sklearn\\neural_network\\multilayer_perceptron.py:563: ConvergenceWarning: Stochastic Optimizer: Maximum iterations reached and the optimization hasn't converged yet.\n",
      "  % (), ConvergenceWarning)\n",
      "C:\\Users\\Buomsoo\\Anaconda3\\lib\\site-packages\\sklearn\\neural_network\\multilayer_perceptron.py:563: ConvergenceWarning: Stochastic Optimizer: Maximum iterations reached and the optimization hasn't converged yet.\n",
      "  % (), ConvergenceWarning)\n",
      "C:\\Users\\Buomsoo\\Anaconda3\\lib\\site-packages\\sklearn\\neural_network\\multilayer_perceptron.py:563: ConvergenceWarning: Stochastic Optimizer: Maximum iterations reached and the optimization hasn't converged yet.\n",
      "  % (), ConvergenceWarning)\n",
      "C:\\Users\\Buomsoo\\Anaconda3\\lib\\site-packages\\sklearn\\neural_network\\multilayer_perceptron.py:563: ConvergenceWarning: Stochastic Optimizer: Maximum iterations reached and the optimization hasn't converged yet.\n",
      "  % (), ConvergenceWarning)\n",
      "C:\\Users\\Buomsoo\\Anaconda3\\lib\\site-packages\\sklearn\\neural_network\\multilayer_perceptron.py:563: ConvergenceWarning: Stochastic Optimizer: Maximum iterations reached and the optimization hasn't converged yet.\n",
      "  % (), ConvergenceWarning)\n",
      "C:\\Users\\Buomsoo\\Anaconda3\\lib\\site-packages\\sklearn\\neural_network\\multilayer_perceptron.py:563: ConvergenceWarning: Stochastic Optimizer: Maximum iterations reached and the optimization hasn't converged yet.\n",
      "  % (), ConvergenceWarning)\n",
      "C:\\Users\\Buomsoo\\Anaconda3\\lib\\site-packages\\sklearn\\neural_network\\multilayer_perceptron.py:563: ConvergenceWarning: Stochastic Optimizer: Maximum iterations reached and the optimization hasn't converged yet.\n",
      "  % (), ConvergenceWarning)\n",
      "C:\\Users\\Buomsoo\\Anaconda3\\lib\\site-packages\\sklearn\\neural_network\\multilayer_perceptron.py:563: ConvergenceWarning: Stochastic Optimizer: Maximum iterations reached and the optimization hasn't converged yet.\n",
      "  % (), ConvergenceWarning)\n",
      "C:\\Users\\Buomsoo\\Anaconda3\\lib\\site-packages\\sklearn\\neural_network\\multilayer_perceptron.py:563: ConvergenceWarning: Stochastic Optimizer: Maximum iterations reached and the optimization hasn't converged yet.\n",
      "  % (), ConvergenceWarning)\n",
      "C:\\Users\\Buomsoo\\Anaconda3\\lib\\site-packages\\sklearn\\neural_network\\multilayer_perceptron.py:563: ConvergenceWarning: Stochastic Optimizer: Maximum iterations reached and the optimization hasn't converged yet.\n",
      "  % (), ConvergenceWarning)\n",
      "C:\\Users\\Buomsoo\\Anaconda3\\lib\\site-packages\\sklearn\\neural_network\\multilayer_perceptron.py:563: ConvergenceWarning: Stochastic Optimizer: Maximum iterations reached and the optimization hasn't converged yet.\n",
      "  % (), ConvergenceWarning)\n",
      "C:\\Users\\Buomsoo\\Anaconda3\\lib\\site-packages\\sklearn\\neural_network\\multilayer_perceptron.py:563: ConvergenceWarning: Stochastic Optimizer: Maximum iterations reached and the optimization hasn't converged yet.\n",
      "  % (), ConvergenceWarning)\n",
      "C:\\Users\\Buomsoo\\Anaconda3\\lib\\site-packages\\sklearn\\neural_network\\multilayer_perceptron.py:563: ConvergenceWarning: Stochastic Optimizer: Maximum iterations reached and the optimization hasn't converged yet.\n",
      "  % (), ConvergenceWarning)\n",
      "C:\\Users\\Buomsoo\\Anaconda3\\lib\\site-packages\\sklearn\\neural_network\\multilayer_perceptron.py:563: ConvergenceWarning: Stochastic Optimizer: Maximum iterations reached and the optimization hasn't converged yet.\n",
      "  % (), ConvergenceWarning)\n",
      "C:\\Users\\Buomsoo\\Anaconda3\\lib\\site-packages\\sklearn\\neural_network\\multilayer_perceptron.py:563: ConvergenceWarning: Stochastic Optimizer: Maximum iterations reached and the optimization hasn't converged yet.\n",
      "  % (), ConvergenceWarning)\n",
      "C:\\Users\\Buomsoo\\Anaconda3\\lib\\site-packages\\sklearn\\neural_network\\multilayer_perceptron.py:563: ConvergenceWarning: Stochastic Optimizer: Maximum iterations reached and the optimization hasn't converged yet.\n",
      "  % (), ConvergenceWarning)\n",
      "C:\\Users\\Buomsoo\\Anaconda3\\lib\\site-packages\\sklearn\\neural_network\\multilayer_perceptron.py:563: ConvergenceWarning: Stochastic Optimizer: Maximum iterations reached and the optimization hasn't converged yet.\n",
      "  % (), ConvergenceWarning)\n",
      "C:\\Users\\Buomsoo\\Anaconda3\\lib\\site-packages\\sklearn\\neural_network\\multilayer_perceptron.py:563: ConvergenceWarning: Stochastic Optimizer: Maximum iterations reached and the optimization hasn't converged yet.\n",
      "  % (), ConvergenceWarning)\n",
      "C:\\Users\\Buomsoo\\Anaconda3\\lib\\site-packages\\sklearn\\neural_network\\multilayer_perceptron.py:563: ConvergenceWarning: Stochastic Optimizer: Maximum iterations reached and the optimization hasn't converged yet.\n",
      "  % (), ConvergenceWarning)\n",
      "C:\\Users\\Buomsoo\\Anaconda3\\lib\\site-packages\\sklearn\\neural_network\\multilayer_perceptron.py:563: ConvergenceWarning: Stochastic Optimizer: Maximum iterations reached and the optimization hasn't converged yet.\n",
      "  % (), ConvergenceWarning)\n",
      "C:\\Users\\Buomsoo\\Anaconda3\\lib\\site-packages\\sklearn\\neural_network\\multilayer_perceptron.py:563: ConvergenceWarning: Stochastic Optimizer: Maximum iterations reached and the optimization hasn't converged yet.\n",
      "  % (), ConvergenceWarning)\n",
      "C:\\Users\\Buomsoo\\Anaconda3\\lib\\site-packages\\sklearn\\neural_network\\multilayer_perceptron.py:563: ConvergenceWarning: Stochastic Optimizer: Maximum iterations reached and the optimization hasn't converged yet.\n",
      "  % (), ConvergenceWarning)\n",
      "C:\\Users\\Buomsoo\\Anaconda3\\lib\\site-packages\\sklearn\\neural_network\\multilayer_perceptron.py:563: ConvergenceWarning: Stochastic Optimizer: Maximum iterations reached and the optimization hasn't converged yet.\n",
      "  % (), ConvergenceWarning)\n",
      "C:\\Users\\Buomsoo\\Anaconda3\\lib\\site-packages\\sklearn\\neural_network\\multilayer_perceptron.py:563: ConvergenceWarning: Stochastic Optimizer: Maximum iterations reached and the optimization hasn't converged yet.\n",
      "  % (), ConvergenceWarning)\n",
      "C:\\Users\\Buomsoo\\Anaconda3\\lib\\site-packages\\sklearn\\neural_network\\multilayer_perceptron.py:563: ConvergenceWarning: Stochastic Optimizer: Maximum iterations reached and the optimization hasn't converged yet.\n",
      "  % (), ConvergenceWarning)\n",
      "C:\\Users\\Buomsoo\\Anaconda3\\lib\\site-packages\\sklearn\\neural_network\\multilayer_perceptron.py:563: ConvergenceWarning: Stochastic Optimizer: Maximum iterations reached and the optimization hasn't converged yet.\n",
      "  % (), ConvergenceWarning)\n",
      "C:\\Users\\Buomsoo\\Anaconda3\\lib\\site-packages\\sklearn\\neural_network\\multilayer_perceptron.py:563: ConvergenceWarning: Stochastic Optimizer: Maximum iterations reached and the optimization hasn't converged yet.\n",
      "  % (), ConvergenceWarning)\n",
      "C:\\Users\\Buomsoo\\Anaconda3\\lib\\site-packages\\sklearn\\neural_network\\multilayer_perceptron.py:563: ConvergenceWarning: Stochastic Optimizer: Maximum iterations reached and the optimization hasn't converged yet.\n",
      "  % (), ConvergenceWarning)\n",
      "C:\\Users\\Buomsoo\\Anaconda3\\lib\\site-packages\\sklearn\\neural_network\\multilayer_perceptron.py:563: ConvergenceWarning: Stochastic Optimizer: Maximum iterations reached and the optimization hasn't converged yet.\n",
      "  % (), ConvergenceWarning)\n",
      "C:\\Users\\Buomsoo\\Anaconda3\\lib\\site-packages\\sklearn\\neural_network\\multilayer_perceptron.py:563: ConvergenceWarning: Stochastic Optimizer: Maximum iterations reached and the optimization hasn't converged yet.\n",
      "  % (), ConvergenceWarning)\n",
      "C:\\Users\\Buomsoo\\Anaconda3\\lib\\site-packages\\sklearn\\neural_network\\multilayer_perceptron.py:563: ConvergenceWarning: Stochastic Optimizer: Maximum iterations reached and the optimization hasn't converged yet.\n",
      "  % (), ConvergenceWarning)\n",
      "C:\\Users\\Buomsoo\\Anaconda3\\lib\\site-packages\\sklearn\\neural_network\\multilayer_perceptron.py:563: ConvergenceWarning: Stochastic Optimizer: Maximum iterations reached and the optimization hasn't converged yet.\n",
      "  % (), ConvergenceWarning)\n",
      "C:\\Users\\Buomsoo\\Anaconda3\\lib\\site-packages\\sklearn\\neural_network\\multilayer_perceptron.py:563: ConvergenceWarning: Stochastic Optimizer: Maximum iterations reached and the optimization hasn't converged yet.\n",
      "  % (), ConvergenceWarning)\n",
      "C:\\Users\\Buomsoo\\Anaconda3\\lib\\site-packages\\sklearn\\neural_network\\multilayer_perceptron.py:563: ConvergenceWarning: Stochastic Optimizer: Maximum iterations reached and the optimization hasn't converged yet.\n",
      "  % (), ConvergenceWarning)\n"
     ]
    },
    {
     "name": "stderr",
     "output_type": "stream",
     "text": [
      "C:\\Users\\Buomsoo\\Anaconda3\\lib\\site-packages\\sklearn\\neural_network\\multilayer_perceptron.py:563: ConvergenceWarning: Stochastic Optimizer: Maximum iterations reached and the optimization hasn't converged yet.\n",
      "  % (), ConvergenceWarning)\n",
      "C:\\Users\\Buomsoo\\Anaconda3\\lib\\site-packages\\sklearn\\neural_network\\multilayer_perceptron.py:563: ConvergenceWarning: Stochastic Optimizer: Maximum iterations reached and the optimization hasn't converged yet.\n",
      "  % (), ConvergenceWarning)\n",
      "C:\\Users\\Buomsoo\\Anaconda3\\lib\\site-packages\\sklearn\\neural_network\\multilayer_perceptron.py:563: ConvergenceWarning: Stochastic Optimizer: Maximum iterations reached and the optimization hasn't converged yet.\n",
      "  % (), ConvergenceWarning)\n",
      "C:\\Users\\Buomsoo\\Anaconda3\\lib\\site-packages\\sklearn\\neural_network\\multilayer_perceptron.py:563: ConvergenceWarning: Stochastic Optimizer: Maximum iterations reached and the optimization hasn't converged yet.\n",
      "  % (), ConvergenceWarning)\n",
      "C:\\Users\\Buomsoo\\Anaconda3\\lib\\site-packages\\sklearn\\neural_network\\multilayer_perceptron.py:563: ConvergenceWarning: Stochastic Optimizer: Maximum iterations reached and the optimization hasn't converged yet.\n",
      "  % (), ConvergenceWarning)\n"
     ]
    }
   ],
   "source": [
    "grid_result = searcher.fit(X_train, y_train)"
   ]
  },
  {
   "cell_type": "code",
   "execution_count": 15,
   "metadata": {
    "scrolled": true
   },
   "outputs": [
    {
     "name": "stdout",
     "output_type": "stream",
     "text": [
      "Best model: {'activation': 'relu', 'batch_size': 100, 'learning_rate_init': 0.001, 'max_iter': 500, 'solver': 'adam'} with accuracy of 0.857342\n",
      "MEAN: 0.346619 (STD: 0.107287) with: {'activation': 'tanh', 'batch_size': 50, 'learning_rate_init': 0.1, 'max_iter': 200, 'solver': 'sgd'}\n",
      "MEAN: 0.166152 (STD: 0.061252) with: {'activation': 'tanh', 'batch_size': 50, 'learning_rate_init': 0.1, 'max_iter': 200, 'solver': 'adam'}\n",
      "MEAN: 0.260556 (STD: 0.081210) with: {'activation': 'tanh', 'batch_size': 50, 'learning_rate_init': 0.1, 'max_iter': 300, 'solver': 'sgd'}\n",
      "MEAN: 0.242276 (STD: 0.113562) with: {'activation': 'tanh', 'batch_size': 50, 'learning_rate_init': 0.1, 'max_iter': 300, 'solver': 'adam'}\n",
      "MEAN: 0.300940 (STD: 0.118937) with: {'activation': 'tanh', 'batch_size': 50, 'learning_rate_init': 0.1, 'max_iter': 400, 'solver': 'sgd'}\n",
      "MEAN: 0.221964 (STD: 0.119108) with: {'activation': 'tanh', 'batch_size': 50, 'learning_rate_init': 0.1, 'max_iter': 400, 'solver': 'adam'}\n",
      "MEAN: 0.277233 (STD: 0.125956) with: {'activation': 'tanh', 'batch_size': 50, 'learning_rate_init': 0.1, 'max_iter': 500, 'solver': 'sgd'}\n",
      "MEAN: 0.164780 (STD: 0.059947) with: {'activation': 'tanh', 'batch_size': 50, 'learning_rate_init': 0.1, 'max_iter': 500, 'solver': 'adam'}\n",
      "MEAN: 0.574294 (STD: 0.162907) with: {'activation': 'tanh', 'batch_size': 50, 'learning_rate_init': 0.01, 'max_iter': 200, 'solver': 'sgd'}\n",
      "MEAN: 0.644202 (STD: 0.073500) with: {'activation': 'tanh', 'batch_size': 50, 'learning_rate_init': 0.01, 'max_iter': 200, 'solver': 'adam'}\n",
      "MEAN: 0.542594 (STD: 0.225142) with: {'activation': 'tanh', 'batch_size': 50, 'learning_rate_init': 0.01, 'max_iter': 300, 'solver': 'sgd'}\n",
      "MEAN: 0.567614 (STD: 0.207823) with: {'activation': 'tanh', 'batch_size': 50, 'learning_rate_init': 0.01, 'max_iter': 300, 'solver': 'adam'}\n",
      "MEAN: 0.629407 (STD: 0.108805) with: {'activation': 'tanh', 'batch_size': 50, 'learning_rate_init': 0.01, 'max_iter': 400, 'solver': 'sgd'}\n",
      "MEAN: 0.645081 (STD: 0.107001) with: {'activation': 'tanh', 'batch_size': 50, 'learning_rate_init': 0.01, 'max_iter': 400, 'solver': 'adam'}\n",
      "MEAN: 0.513333 (STD: 0.182298) with: {'activation': 'tanh', 'batch_size': 50, 'learning_rate_init': 0.01, 'max_iter': 500, 'solver': 'sgd'}\n",
      "MEAN: 0.664680 (STD: 0.100275) with: {'activation': 'tanh', 'batch_size': 50, 'learning_rate_init': 0.01, 'max_iter': 500, 'solver': 'adam'}\n",
      "MEAN: 0.560642 (STD: 0.134030) with: {'activation': 'tanh', 'batch_size': 50, 'learning_rate_init': 0.001, 'max_iter': 200, 'solver': 'sgd'}\n",
      "MEAN: 0.734469 (STD: 0.038116) with: {'activation': 'tanh', 'batch_size': 50, 'learning_rate_init': 0.001, 'max_iter': 200, 'solver': 'adam'}\n",
      "MEAN: 0.561339 (STD: 0.100629) with: {'activation': 'tanh', 'batch_size': 50, 'learning_rate_init': 0.001, 'max_iter': 300, 'solver': 'sgd'}\n",
      "MEAN: 0.728025 (STD: 0.106132) with: {'activation': 'tanh', 'batch_size': 50, 'learning_rate_init': 0.001, 'max_iter': 300, 'solver': 'adam'}\n",
      "MEAN: 0.610907 (STD: 0.198112) with: {'activation': 'tanh', 'batch_size': 50, 'learning_rate_init': 0.001, 'max_iter': 400, 'solver': 'sgd'}\n",
      "MEAN: 0.735326 (STD: 0.097594) with: {'activation': 'tanh', 'batch_size': 50, 'learning_rate_init': 0.001, 'max_iter': 400, 'solver': 'adam'}\n",
      "MEAN: 0.658448 (STD: 0.177556) with: {'activation': 'tanh', 'batch_size': 50, 'learning_rate_init': 0.001, 'max_iter': 500, 'solver': 'sgd'}\n",
      "MEAN: 0.749883 (STD: 0.114671) with: {'activation': 'tanh', 'batch_size': 50, 'learning_rate_init': 0.001, 'max_iter': 500, 'solver': 'adam'}\n",
      "MEAN: 0.421005 (STD: 0.101215) with: {'activation': 'tanh', 'batch_size': 100, 'learning_rate_init': 0.1, 'max_iter': 200, 'solver': 'sgd'}\n",
      "MEAN: 0.239614 (STD: 0.084628) with: {'activation': 'tanh', 'batch_size': 100, 'learning_rate_init': 0.1, 'max_iter': 200, 'solver': 'adam'}\n",
      "MEAN: 0.403914 (STD: 0.118759) with: {'activation': 'tanh', 'batch_size': 100, 'learning_rate_init': 0.1, 'max_iter': 300, 'solver': 'sgd'}\n",
      "MEAN: 0.193464 (STD: 0.079766) with: {'activation': 'tanh', 'batch_size': 100, 'learning_rate_init': 0.1, 'max_iter': 300, 'solver': 'adam'}\n",
      "MEAN: 0.421484 (STD: 0.101045) with: {'activation': 'tanh', 'batch_size': 100, 'learning_rate_init': 0.1, 'max_iter': 400, 'solver': 'sgd'}\n",
      "MEAN: 0.216091 (STD: 0.052332) with: {'activation': 'tanh', 'batch_size': 100, 'learning_rate_init': 0.1, 'max_iter': 400, 'solver': 'adam'}\n",
      "MEAN: 0.556004 (STD: 0.087482) with: {'activation': 'tanh', 'batch_size': 100, 'learning_rate_init': 0.1, 'max_iter': 500, 'solver': 'sgd'}\n",
      "MEAN: 0.188277 (STD: 0.073477) with: {'activation': 'tanh', 'batch_size': 100, 'learning_rate_init': 0.1, 'max_iter': 500, 'solver': 'adam'}\n",
      "MEAN: 0.717358 (STD: 0.066723) with: {'activation': 'tanh', 'batch_size': 100, 'learning_rate_init': 0.01, 'max_iter': 200, 'solver': 'sgd'}\n",
      "MEAN: 0.722613 (STD: 0.101001) with: {'activation': 'tanh', 'batch_size': 100, 'learning_rate_init': 0.01, 'max_iter': 200, 'solver': 'adam'}\n",
      "MEAN: 0.637363 (STD: 0.151115) with: {'activation': 'tanh', 'batch_size': 100, 'learning_rate_init': 0.01, 'max_iter': 300, 'solver': 'sgd'}\n",
      "MEAN: 0.736870 (STD: 0.058125) with: {'activation': 'tanh', 'batch_size': 100, 'learning_rate_init': 0.01, 'max_iter': 300, 'solver': 'adam'}\n",
      "MEAN: 0.685314 (STD: 0.097229) with: {'activation': 'tanh', 'batch_size': 100, 'learning_rate_init': 0.01, 'max_iter': 400, 'solver': 'sgd'}\n",
      "MEAN: 0.671180 (STD: 0.148156) with: {'activation': 'tanh', 'batch_size': 100, 'learning_rate_init': 0.01, 'max_iter': 400, 'solver': 'adam'}\n",
      "MEAN: 0.759940 (STD: 0.054811) with: {'activation': 'tanh', 'batch_size': 100, 'learning_rate_init': 0.01, 'max_iter': 500, 'solver': 'sgd'}\n",
      "MEAN: 0.666524 (STD: 0.113067) with: {'activation': 'tanh', 'batch_size': 100, 'learning_rate_init': 0.01, 'max_iter': 500, 'solver': 'adam'}\n",
      "MEAN: 0.575185 (STD: 0.100593) with: {'activation': 'tanh', 'batch_size': 100, 'learning_rate_init': 0.001, 'max_iter': 200, 'solver': 'sgd'}\n",
      "MEAN: 0.739573 (STD: 0.095382) with: {'activation': 'tanh', 'batch_size': 100, 'learning_rate_init': 0.001, 'max_iter': 200, 'solver': 'adam'}\n",
      "MEAN: 0.615889 (STD: 0.087416) with: {'activation': 'tanh', 'batch_size': 100, 'learning_rate_init': 0.001, 'max_iter': 300, 'solver': 'sgd'}\n",
      "MEAN: 0.725494 (STD: 0.125956) with: {'activation': 'tanh', 'batch_size': 100, 'learning_rate_init': 0.001, 'max_iter': 300, 'solver': 'adam'}\n",
      "MEAN: 0.576027 (STD: 0.098290) with: {'activation': 'tanh', 'batch_size': 100, 'learning_rate_init': 0.001, 'max_iter': 400, 'solver': 'sgd'}\n",
      "MEAN: 0.649402 (STD: 0.021558) with: {'activation': 'tanh', 'batch_size': 100, 'learning_rate_init': 0.001, 'max_iter': 400, 'solver': 'adam'}\n",
      "MEAN: 0.631166 (STD: 0.127599) with: {'activation': 'tanh', 'batch_size': 100, 'learning_rate_init': 0.001, 'max_iter': 500, 'solver': 'sgd'}\n",
      "MEAN: 0.747075 (STD: 0.066927) with: {'activation': 'tanh', 'batch_size': 100, 'learning_rate_init': 0.001, 'max_iter': 500, 'solver': 'adam'}\n",
      "MEAN: 0.106467 (STD: 0.000969) with: {'activation': 'relu', 'batch_size': 50, 'learning_rate_init': 0.1, 'max_iter': 200, 'solver': 'sgd'}\n",
      "MEAN: 0.116454 (STD: 0.032382) with: {'activation': 'relu', 'batch_size': 50, 'learning_rate_init': 0.1, 'max_iter': 200, 'solver': 'adam'}\n",
      "MEAN: 0.105753 (STD: 0.003459) with: {'activation': 'relu', 'batch_size': 50, 'learning_rate_init': 0.1, 'max_iter': 300, 'solver': 'sgd'}\n",
      "MEAN: 0.104377 (STD: 0.003469) with: {'activation': 'relu', 'batch_size': 50, 'learning_rate_init': 0.1, 'max_iter': 300, 'solver': 'adam'}\n",
      "MEAN: 0.105081 (STD: 0.001044) with: {'activation': 'relu', 'batch_size': 50, 'learning_rate_init': 0.1, 'max_iter': 400, 'solver': 'sgd'}\n",
      "MEAN: 0.106479 (STD: 0.001861) with: {'activation': 'relu', 'batch_size': 50, 'learning_rate_init': 0.1, 'max_iter': 400, 'solver': 'adam'}\n",
      "MEAN: 0.104379 (STD: 0.002759) with: {'activation': 'relu', 'batch_size': 50, 'learning_rate_init': 0.1, 'max_iter': 500, 'solver': 'sgd'}\n",
      "MEAN: 0.105086 (STD: 0.001446) with: {'activation': 'relu', 'batch_size': 50, 'learning_rate_init': 0.1, 'max_iter': 500, 'solver': 'adam'}\n",
      "MEAN: 0.320038 (STD: 0.220905) with: {'activation': 'relu', 'batch_size': 50, 'learning_rate_init': 0.01, 'max_iter': 200, 'solver': 'sgd'}\n",
      "MEAN: 0.657275 (STD: 0.179642) with: {'activation': 'relu', 'batch_size': 50, 'learning_rate_init': 0.01, 'max_iter': 200, 'solver': 'adam'}\n",
      "MEAN: 0.461245 (STD: 0.209947) with: {'activation': 'relu', 'batch_size': 50, 'learning_rate_init': 0.01, 'max_iter': 300, 'solver': 'sgd'}\n",
      "MEAN: 0.561095 (STD: 0.187704) with: {'activation': 'relu', 'batch_size': 50, 'learning_rate_init': 0.01, 'max_iter': 300, 'solver': 'adam'}\n",
      "MEAN: 0.252194 (STD: 0.082532) with: {'activation': 'relu', 'batch_size': 50, 'learning_rate_init': 0.01, 'max_iter': 400, 'solver': 'sgd'}\n",
      "MEAN: 0.708309 (STD: 0.171594) with: {'activation': 'relu', 'batch_size': 50, 'learning_rate_init': 0.01, 'max_iter': 400, 'solver': 'adam'}\n",
      "MEAN: 0.515290 (STD: 0.312613) with: {'activation': 'relu', 'batch_size': 50, 'learning_rate_init': 0.01, 'max_iter': 500, 'solver': 'sgd'}\n",
      "MEAN: 0.591900 (STD: 0.211011) with: {'activation': 'relu', 'batch_size': 50, 'learning_rate_init': 0.01, 'max_iter': 500, 'solver': 'adam'}\n",
      "MEAN: 0.674615 (STD: 0.129304) with: {'activation': 'relu', 'batch_size': 50, 'learning_rate_init': 0.001, 'max_iter': 200, 'solver': 'sgd'}\n",
      "MEAN: 0.855174 (STD: 0.018116) with: {'activation': 'relu', 'batch_size': 50, 'learning_rate_init': 0.001, 'max_iter': 200, 'solver': 'adam'}\n",
      "MEAN: 0.710849 (STD: 0.085837) with: {'activation': 'relu', 'batch_size': 50, 'learning_rate_init': 0.001, 'max_iter': 300, 'solver': 'sgd'}\n",
      "MEAN: 0.822969 (STD: 0.075279) with: {'activation': 'relu', 'batch_size': 50, 'learning_rate_init': 0.001, 'max_iter': 300, 'solver': 'adam'}\n",
      "MEAN: 0.559584 (STD: 0.249130) with: {'activation': 'relu', 'batch_size': 50, 'learning_rate_init': 0.001, 'max_iter': 400, 'solver': 'sgd'}\n",
      "MEAN: 0.801018 (STD: 0.034313) with: {'activation': 'relu', 'batch_size': 50, 'learning_rate_init': 0.001, 'max_iter': 400, 'solver': 'adam'}\n",
      "MEAN: 0.558402 (STD: 0.152994) with: {'activation': 'relu', 'batch_size': 50, 'learning_rate_init': 0.001, 'max_iter': 500, 'solver': 'sgd'}\n",
      "MEAN: 0.826742 (STD: 0.080782) with: {'activation': 'relu', 'batch_size': 50, 'learning_rate_init': 0.001, 'max_iter': 500, 'solver': 'adam'}\n",
      "MEAN: 0.125556 (STD: 0.039759) with: {'activation': 'relu', 'batch_size': 100, 'learning_rate_init': 0.1, 'max_iter': 200, 'solver': 'sgd'}\n",
      "MEAN: 0.158946 (STD: 0.073452) with: {'activation': 'relu', 'batch_size': 100, 'learning_rate_init': 0.1, 'max_iter': 200, 'solver': 'adam'}\n",
      "MEAN: 0.103694 (STD: 0.001498) with: {'activation': 'relu', 'batch_size': 100, 'learning_rate_init': 0.1, 'max_iter': 300, 'solver': 'sgd'}\n",
      "MEAN: 0.106479 (STD: 0.001861) with: {'activation': 'relu', 'batch_size': 100, 'learning_rate_init': 0.1, 'max_iter': 300, 'solver': 'adam'}\n",
      "MEAN: 0.103690 (STD: 0.005029) with: {'activation': 'relu', 'batch_size': 100, 'learning_rate_init': 0.1, 'max_iter': 400, 'solver': 'sgd'}\n",
      "MEAN: 0.104374 (STD: 0.002574) with: {'activation': 'relu', 'batch_size': 100, 'learning_rate_init': 0.1, 'max_iter': 400, 'solver': 'adam'}\n",
      "MEAN: 0.106460 (STD: 0.002082) with: {'activation': 'relu', 'batch_size': 100, 'learning_rate_init': 0.1, 'max_iter': 500, 'solver': 'sgd'}\n",
      "MEAN: 0.140026 (STD: 0.068124) with: {'activation': 'relu', 'batch_size': 100, 'learning_rate_init': 0.1, 'max_iter': 500, 'solver': 'adam'}\n",
      "MEAN: 0.394817 (STD: 0.257147) with: {'activation': 'relu', 'batch_size': 100, 'learning_rate_init': 0.01, 'max_iter': 200, 'solver': 'sgd'}\n",
      "MEAN: 0.461309 (STD: 0.298068) with: {'activation': 'relu', 'batch_size': 100, 'learning_rate_init': 0.01, 'max_iter': 200, 'solver': 'adam'}\n",
      "MEAN: 0.627640 (STD: 0.202457) with: {'activation': 'relu', 'batch_size': 100, 'learning_rate_init': 0.01, 'max_iter': 300, 'solver': 'sgd'}\n",
      "MEAN: 0.493598 (STD: 0.239232) with: {'activation': 'relu', 'batch_size': 100, 'learning_rate_init': 0.01, 'max_iter': 300, 'solver': 'adam'}\n",
      "MEAN: 0.256564 (STD: 0.157866) with: {'activation': 'relu', 'batch_size': 100, 'learning_rate_init': 0.01, 'max_iter': 400, 'solver': 'sgd'}\n",
      "MEAN: 0.570989 (STD: 0.248479) with: {'activation': 'relu', 'batch_size': 100, 'learning_rate_init': 0.01, 'max_iter': 400, 'solver': 'adam'}\n",
      "MEAN: 0.480078 (STD: 0.221315) with: {'activation': 'relu', 'batch_size': 100, 'learning_rate_init': 0.01, 'max_iter': 500, 'solver': 'sgd'}\n",
      "MEAN: 0.416719 (STD: 0.293624) with: {'activation': 'relu', 'batch_size': 100, 'learning_rate_init': 0.01, 'max_iter': 500, 'solver': 'adam'}\n",
      "MEAN: 0.666123 (STD: 0.165450) with: {'activation': 'relu', 'batch_size': 100, 'learning_rate_init': 0.001, 'max_iter': 200, 'solver': 'sgd'}\n",
      "MEAN: 0.821790 (STD: 0.063672) with: {'activation': 'relu', 'batch_size': 100, 'learning_rate_init': 0.001, 'max_iter': 200, 'solver': 'adam'}\n",
      "MEAN: 0.526993 (STD: 0.053162) with: {'activation': 'relu', 'batch_size': 100, 'learning_rate_init': 0.001, 'max_iter': 300, 'solver': 'sgd'}\n",
      "MEAN: 0.826456 (STD: 0.099399) with: {'activation': 'relu', 'batch_size': 100, 'learning_rate_init': 0.001, 'max_iter': 300, 'solver': 'adam'}\n",
      "MEAN: 0.662422 (STD: 0.113687) with: {'activation': 'relu', 'batch_size': 100, 'learning_rate_init': 0.001, 'max_iter': 400, 'solver': 'sgd'}\n",
      "MEAN: 0.850448 (STD: 0.018108) with: {'activation': 'relu', 'batch_size': 100, 'learning_rate_init': 0.001, 'max_iter': 400, 'solver': 'adam'}\n",
      "MEAN: 0.648900 (STD: 0.219550) with: {'activation': 'relu', 'batch_size': 100, 'learning_rate_init': 0.001, 'max_iter': 500, 'solver': 'sgd'}\n",
      "MEAN: 0.857641 (STD: 0.039817) with: {'activation': 'relu', 'batch_size': 100, 'learning_rate_init': 0.001, 'max_iter': 500, 'solver': 'adam'}\n"
     ]
    },
    {
     "name": "stderr",
     "output_type": "stream",
     "text": [
      "C:\\Users\\Buomsoo\\Anaconda3\\lib\\site-packages\\sklearn\\model_selection\\_search.py:667: DeprecationWarning: The grid_scores_ attribute was deprecated in version 0.18 in favor of the more elaborate cv_results_ attribute. The grid_scores_ attribute will not be available from 0.20\n",
      "  DeprecationWarning)\n"
     ]
    }
   ],
   "source": [
    "# print out accuracy results and model setting\n",
    "print(\"Best model: %s with accuracy of %f\" % (grid_result.best_params_, grid_result.best_score_))\n",
    "for params, mean_score, scores in grid_result.grid_scores_:\n",
    "    print(\"MEAN: %f (STD: %f) with: %r\" % (scores.mean(), scores.std(), params))"
   ]
  },
  {
   "cell_type": "markdown",
   "metadata": {},
   "source": [
    "## Random Search"
   ]
  },
  {
   "cell_type": "code",
   "execution_count": 19,
   "metadata": {
    "collapsed": true
   },
   "outputs": [],
   "source": [
    "# assign parameters for random search\n",
    "activation = ['tanh', 'relu']\n",
    "solver = ['sgd', 'adam']\n",
    "batch_size = randint(50, 100)\n",
    "learning_rate_init = uniform(0.001, 0.1)\n",
    "max_iter = randint(200, 500)"
   ]
  },
  {
   "cell_type": "code",
   "execution_count": 20,
   "metadata": {
    "collapsed": true
   },
   "outputs": [],
   "source": [
    "# create a dictionary to carry parameter settings\n",
    "parameters = dict(activation = activation, solver = solver, batch_size = batch_size, learning_rate_init = learning_rate_init, max_iter = max_iter)"
   ]
  },
  {
   "cell_type": "code",
   "execution_count": 23,
   "metadata": {},
   "outputs": [],
   "source": [
    "searcher = RandomizedSearchCV(estimator = clf, param_distributions = parameters, cv = 5, n_iter = 96, scoring = 'accuracy')"
   ]
  },
  {
   "cell_type": "code",
   "execution_count": 25,
   "metadata": {},
   "outputs": [],
   "source": [
    "random_result = searcher.fit(X_train, y_train)"
   ]
  },
  {
   "cell_type": "code",
   "execution_count": 26,
   "metadata": {},
   "outputs": [
    {
     "name": "stdout",
     "output_type": "stream",
     "text": [
      "Best model: {'activation': 'relu', 'batch_size': 79, 'learning_rate_init': 0.0019578074034639174, 'max_iter': 495, 'solver': 'adam'} with accuracy of 0.868476\n",
      "MEAN: 0.650903 (STD: 0.119895) with: {'activation': 'tanh', 'batch_size': 90, 'learning_rate_init': 0.0091287060757332707, 'max_iter': 352, 'solver': 'sgd'}\n",
      "MEAN: 0.365655 (STD: 0.103631) with: {'activation': 'tanh', 'batch_size': 52, 'learning_rate_init': 0.05074528454631725, 'max_iter': 277, 'solver': 'sgd'}\n",
      "MEAN: 0.228467 (STD: 0.161759) with: {'activation': 'relu', 'batch_size': 86, 'learning_rate_init': 0.033906002127962354, 'max_iter': 410, 'solver': 'adam'}\n",
      "MEAN: 0.382917 (STD: 0.162967) with: {'activation': 'tanh', 'batch_size': 53, 'learning_rate_init': 0.081074768375678077, 'max_iter': 352, 'solver': 'sgd'}\n",
      "MEAN: 0.105076 (STD: 0.002222) with: {'activation': 'relu', 'batch_size': 50, 'learning_rate_init': 0.060448530462735961, 'max_iter': 388, 'solver': 'sgd'}\n",
      "MEAN: 0.263180 (STD: 0.072728) with: {'activation': 'tanh', 'batch_size': 63, 'learning_rate_init': 0.095603816530157218, 'max_iter': 429, 'solver': 'sgd'}\n",
      "MEAN: 0.180115 (STD: 0.092645) with: {'activation': 'relu', 'batch_size': 66, 'learning_rate_init': 0.05201855286265307, 'max_iter': 210, 'solver': 'adam'}\n",
      "MEAN: 0.176811 (STD: 0.105914) with: {'activation': 'relu', 'batch_size': 85, 'learning_rate_init': 0.072917864561325527, 'max_iter': 318, 'solver': 'adam'}\n",
      "MEAN: 0.596164 (STD: 0.123591) with: {'activation': 'tanh', 'batch_size': 58, 'learning_rate_init': 0.014821974702572783, 'max_iter': 358, 'solver': 'sgd'}\n",
      "MEAN: 0.409824 (STD: 0.190497) with: {'activation': 'relu', 'batch_size': 71, 'learning_rate_init': 0.012942205362024915, 'max_iter': 286, 'solver': 'adam'}\n",
      "MEAN: 0.296302 (STD: 0.111241) with: {'activation': 'tanh', 'batch_size': 52, 'learning_rate_init': 0.067602353334602877, 'max_iter': 209, 'solver': 'adam'}\n",
      "MEAN: 0.426044 (STD: 0.154247) with: {'activation': 'tanh', 'batch_size': 52, 'learning_rate_init': 0.032416910391780289, 'max_iter': 279, 'solver': 'adam'}\n",
      "MEAN: 0.107167 (STD: 0.000835) with: {'activation': 'relu', 'batch_size': 93, 'learning_rate_init': 0.068811965851605539, 'max_iter': 243, 'solver': 'sgd'}\n",
      "MEAN: 0.399259 (STD: 0.083667) with: {'activation': 'tanh', 'batch_size': 68, 'learning_rate_init': 0.053449494745775365, 'max_iter': 316, 'solver': 'adam'}\n",
      "MEAN: 0.213035 (STD: 0.155314) with: {'activation': 'relu', 'batch_size': 66, 'learning_rate_init': 0.052413705446267583, 'max_iter': 372, 'solver': 'adam'}\n",
      "MEAN: 0.125912 (STD: 0.039482) with: {'activation': 'relu', 'batch_size': 80, 'learning_rate_init': 0.070234880416280024, 'max_iter': 356, 'solver': 'sgd'}\n",
      "MEAN: 0.185601 (STD: 0.076422) with: {'activation': 'relu', 'batch_size': 54, 'learning_rate_init': 0.080304869560685999, 'max_iter': 353, 'solver': 'adam'}\n",
      "MEAN: 0.589211 (STD: 0.145036) with: {'activation': 'tanh', 'batch_size': 88, 'learning_rate_init': 0.0037866084406621195, 'max_iter': 306, 'solver': 'sgd'}\n",
      "MEAN: 0.484547 (STD: 0.261613) with: {'activation': 'relu', 'batch_size': 70, 'learning_rate_init': 0.0080740278797661429, 'max_iter': 202, 'solver': 'adam'}\n",
      "MEAN: 0.413744 (STD: 0.122868) with: {'activation': 'tanh', 'batch_size': 81, 'learning_rate_init': 0.052269920231603206, 'max_iter': 419, 'solver': 'sgd'}\n",
      "MEAN: 0.158845 (STD: 0.043769) with: {'activation': 'relu', 'batch_size': 61, 'learning_rate_init': 0.070376665325515828, 'max_iter': 391, 'solver': 'sgd'}\n",
      "MEAN: 0.620205 (STD: 0.105178) with: {'activation': 'tanh', 'batch_size': 80, 'learning_rate_init': 0.02329580524912488, 'max_iter': 350, 'solver': 'sgd'}\n",
      "MEAN: 0.458556 (STD: 0.185293) with: {'activation': 'tanh', 'batch_size': 96, 'learning_rate_init': 0.057579210134054065, 'max_iter': 254, 'solver': 'sgd'}\n",
      "MEAN: 0.146782 (STD: 0.085660) with: {'activation': 'relu', 'batch_size': 70, 'learning_rate_init': 0.086690618634797517, 'max_iter': 484, 'solver': 'adam'}\n",
      "MEAN: 0.755495 (STD: 0.065106) with: {'activation': 'tanh', 'batch_size': 79, 'learning_rate_init': 0.0058935701107181264, 'max_iter': 427, 'solver': 'adam'}\n",
      "MEAN: 0.411670 (STD: 0.202914) with: {'activation': 'tanh', 'batch_size': 50, 'learning_rate_init': 0.065138504753787727, 'max_iter': 273, 'solver': 'sgd'}\n",
      "MEAN: 0.338468 (STD: 0.239869) with: {'activation': 'relu', 'batch_size': 54, 'learning_rate_init': 0.033179916723421708, 'max_iter': 372, 'solver': 'adam'}\n",
      "MEAN: 0.467472 (STD: 0.165125) with: {'activation': 'tanh', 'batch_size': 57, 'learning_rate_init': 0.044503316533473884, 'max_iter': 240, 'solver': 'sgd'}\n",
      "MEAN: 0.295384 (STD: 0.116940) with: {'activation': 'tanh', 'batch_size': 72, 'learning_rate_init': 0.029588405269587437, 'max_iter': 235, 'solver': 'adam'}\n",
      "MEAN: 0.254891 (STD: 0.226722) with: {'activation': 'relu', 'batch_size': 62, 'learning_rate_init': 0.027525615324263064, 'max_iter': 362, 'solver': 'sgd'}\n",
      "MEAN: 0.168829 (STD: 0.077292) with: {'activation': 'relu', 'batch_size': 64, 'learning_rate_init': 0.061358680072337593, 'max_iter': 410, 'solver': 'sgd'}\n",
      "MEAN: 0.402829 (STD: 0.056273) with: {'activation': 'tanh', 'batch_size': 76, 'learning_rate_init': 0.040955823307145027, 'max_iter': 377, 'solver': 'adam'}\n",
      "MEAN: 0.627774 (STD: 0.160120) with: {'activation': 'tanh', 'batch_size': 81, 'learning_rate_init': 0.0064553395027065578, 'max_iter': 413, 'solver': 'sgd'}\n",
      "MEAN: 0.484245 (STD: 0.133772) with: {'activation': 'tanh', 'batch_size': 94, 'learning_rate_init': 0.047051092604314275, 'max_iter': 429, 'solver': 'sgd'}\n",
      "MEAN: 0.522489 (STD: 0.061744) with: {'activation': 'tanh', 'batch_size': 62, 'learning_rate_init': 0.045514567258196081, 'max_iter': 222, 'solver': 'sgd'}\n",
      "MEAN: 0.448788 (STD: 0.209528) with: {'activation': 'relu', 'batch_size': 99, 'learning_rate_init': 0.021852975266788168, 'max_iter': 370, 'solver': 'sgd'}\n",
      "MEAN: 0.207390 (STD: 0.126777) with: {'activation': 'relu', 'batch_size': 73, 'learning_rate_init': 0.038761846240519843, 'max_iter': 316, 'solver': 'sgd'}\n",
      "MEAN: 0.105061 (STD: 0.002599) with: {'activation': 'relu', 'batch_size': 86, 'learning_rate_init': 0.091063775255584248, 'max_iter': 486, 'solver': 'adam'}\n",
      "MEAN: 0.444914 (STD: 0.143344) with: {'activation': 'tanh', 'batch_size': 66, 'learning_rate_init': 0.036224107921572726, 'max_iter': 395, 'solver': 'adam'}\n",
      "MEAN: 0.104359 (STD: 0.002928) with: {'activation': 'relu', 'batch_size': 76, 'learning_rate_init': 0.08449282095298867, 'max_iter': 456, 'solver': 'adam'}\n",
      "MEAN: 0.723046 (STD: 0.109281) with: {'activation': 'tanh', 'batch_size': 77, 'learning_rate_init': 0.0034183167425935294, 'max_iter': 231, 'solver': 'adam'}\n",
      "MEAN: 0.165075 (STD: 0.078658) with: {'activation': 'relu', 'batch_size': 58, 'learning_rate_init': 0.063469337637004936, 'max_iter': 489, 'solver': 'adam'}\n",
      "MEAN: 0.443376 (STD: 0.102419) with: {'activation': 'tanh', 'batch_size': 68, 'learning_rate_init': 0.097549918826361021, 'max_iter': 246, 'solver': 'sgd'}\n",
      "MEAN: 0.420773 (STD: 0.126530) with: {'activation': 'tanh', 'batch_size': 89, 'learning_rate_init': 0.090192167374455734, 'max_iter': 375, 'solver': 'sgd'}\n",
      "MEAN: 0.508517 (STD: 0.173121) with: {'activation': 'tanh', 'batch_size': 62, 'learning_rate_init': 0.075997023153178356, 'max_iter': 273, 'solver': 'sgd'}\n",
      "MEAN: 0.247907 (STD: 0.132274) with: {'activation': 'relu', 'batch_size': 74, 'learning_rate_init': 0.047350944152030242, 'max_iter': 363, 'solver': 'sgd'}\n",
      "MEAN: 0.542143 (STD: 0.288696) with: {'activation': 'relu', 'batch_size': 73, 'learning_rate_init': 0.0082762293890600511, 'max_iter': 232, 'solver': 'adam'}\n",
      "MEAN: 0.126048 (STD: 0.038379) with: {'activation': 'relu', 'batch_size': 64, 'learning_rate_init': 0.068658710370057358, 'max_iter': 403, 'solver': 'sgd'}\n",
      "MEAN: 0.324838 (STD: 0.115783) with: {'activation': 'relu', 'batch_size': 80, 'learning_rate_init': 0.024829921030167082, 'max_iter': 312, 'solver': 'sgd'}\n",
      "MEAN: 0.532617 (STD: 0.130464) with: {'activation': 'tanh', 'batch_size': 80, 'learning_rate_init': 0.038750197460083437, 'max_iter': 221, 'solver': 'adam'}\n",
      "MEAN: 0.389010 (STD: 0.286796) with: {'activation': 'relu', 'batch_size': 79, 'learning_rate_init': 0.021475825142761931, 'max_iter': 349, 'solver': 'adam'}\n",
      "MEAN: 0.124155 (STD: 0.036900) with: {'activation': 'relu', 'batch_size': 58, 'learning_rate_init': 0.083310503659966229, 'max_iter': 417, 'solver': 'adam'}\n",
      "MEAN: 0.363629 (STD: 0.191894) with: {'activation': 'relu', 'batch_size': 84, 'learning_rate_init': 0.035355098788811178, 'max_iter': 279, 'solver': 'adam'}\n",
      "MEAN: 0.495032 (STD: 0.058112) with: {'activation': 'tanh', 'batch_size': 64, 'learning_rate_init': 0.070514146023702193, 'max_iter': 433, 'solver': 'sgd'}\n",
      "MEAN: 0.105783 (STD: 0.002843) with: {'activation': 'relu', 'batch_size': 57, 'learning_rate_init': 0.043368773294488586, 'max_iter': 455, 'solver': 'sgd'}\n",
      "MEAN: 0.754106 (STD: 0.070208) with: {'activation': 'tanh', 'batch_size': 50, 'learning_rate_init': 0.0055100833629901473, 'max_iter': 229, 'solver': 'adam'}\n",
      "MEAN: 0.198662 (STD: 0.123835) with: {'activation': 'relu', 'batch_size': 89, 'learning_rate_init': 0.048543593664827057, 'max_iter': 298, 'solver': 'adam'}\n",
      "MEAN: 0.557985 (STD: 0.150136) with: {'activation': 'tanh', 'batch_size': 90, 'learning_rate_init': 0.0055220687489585304, 'max_iter': 487, 'solver': 'sgd'}\n",
      "MEAN: 0.768626 (STD: 0.156157) with: {'activation': 'relu', 'batch_size': 52, 'learning_rate_init': 0.0080831671282016286, 'max_iter': 394, 'solver': 'adam'}\n",
      "MEAN: 0.366766 (STD: 0.117517) with: {'activation': 'tanh', 'batch_size': 52, 'learning_rate_init': 0.053411500872166673, 'max_iter': 484, 'solver': 'adam'}\n",
      "MEAN: 0.103682 (STD: 0.002130) with: {'activation': 'relu', 'batch_size': 95, 'learning_rate_init': 0.065602156120940752, 'max_iter': 353, 'solver': 'sgd'}\n",
      "MEAN: 0.409270 (STD: 0.130488) with: {'activation': 'tanh', 'batch_size': 62, 'learning_rate_init': 0.04679137914982287, 'max_iter': 338, 'solver': 'adam'}\n",
      "MEAN: 0.427143 (STD: 0.117495) with: {'activation': 'tanh', 'batch_size': 65, 'learning_rate_init': 0.063199656744201513, 'max_iter': 472, 'solver': 'sgd'}\n",
      "MEAN: 0.104398 (STD: 0.005549) with: {'activation': 'relu', 'batch_size': 77, 'learning_rate_init': 0.088672585720032546, 'max_iter': 271, 'solver': 'sgd'}\n",
      "MEAN: 0.263335 (STD: 0.156325) with: {'activation': 'relu', 'batch_size': 91, 'learning_rate_init': 0.025567085343260722, 'max_iter': 361, 'solver': 'sgd'}\n",
      "MEAN: 0.105066 (STD: 0.001705) with: {'activation': 'relu', 'batch_size': 84, 'learning_rate_init': 0.092192075847835786, 'max_iter': 400, 'solver': 'adam'}\n",
      "MEAN: 0.283823 (STD: 0.137926) with: {'activation': 'tanh', 'batch_size': 78, 'learning_rate_init': 0.067846826776582853, 'max_iter': 335, 'solver': 'adam'}\n",
      "MEAN: 0.286413 (STD: 0.074525) with: {'activation': 'tanh', 'batch_size': 54, 'learning_rate_init': 0.097939176614069201, 'max_iter': 363, 'solver': 'adam'}\n",
      "MEAN: 0.615277 (STD: 0.159065) with: {'activation': 'relu', 'batch_size': 71, 'learning_rate_init': 0.0055605390043582444, 'max_iter': 218, 'solver': 'adam'}\n",
      "MEAN: 0.310177 (STD: 0.119130) with: {'activation': 'tanh', 'batch_size': 67, 'learning_rate_init': 0.069834359395455126, 'max_iter': 448, 'solver': 'sgd'}\n",
      "MEAN: 0.455085 (STD: 0.108893) with: {'activation': 'tanh', 'batch_size': 70, 'learning_rate_init': 0.097409398498178534, 'max_iter': 287, 'solver': 'sgd'}\n",
      "MEAN: 0.104340 (STD: 0.006262) with: {'activation': 'relu', 'batch_size': 72, 'learning_rate_init': 0.072761210218362946, 'max_iter': 313, 'solver': 'sgd'}\n",
      "MEAN: 0.564198 (STD: 0.165051) with: {'activation': 'tanh', 'batch_size': 70, 'learning_rate_init': 0.028371188583609777, 'max_iter': 436, 'solver': 'sgd'}\n",
      "MEAN: 0.631275 (STD: 0.145107) with: {'activation': 'tanh', 'batch_size': 79, 'learning_rate_init': 0.020311678769193542, 'max_iter': 400, 'solver': 'sgd'}\n",
      "MEAN: 0.287929 (STD: 0.094478) with: {'activation': 'tanh', 'batch_size': 60, 'learning_rate_init': 0.089313358739691165, 'max_iter': 372, 'solver': 'sgd'}\n",
      "MEAN: 0.556980 (STD: 0.100746) with: {'activation': 'tanh', 'batch_size': 59, 'learning_rate_init': 0.013009209882171791, 'max_iter': 404, 'solver': 'sgd'}\n",
      "MEAN: 0.598647 (STD: 0.089734) with: {'activation': 'tanh', 'batch_size': 65, 'learning_rate_init': 0.045167293935834199, 'max_iter': 248, 'solver': 'sgd'}\n",
      "MEAN: 0.106467 (STD: 0.000969) with: {'activation': 'relu', 'batch_size': 78, 'learning_rate_init': 0.085846182203400581, 'max_iter': 420, 'solver': 'adam'}\n",
      "MEAN: 0.130522 (STD: 0.048151) with: {'activation': 'relu', 'batch_size': 70, 'learning_rate_init': 0.036867537950783347, 'max_iter': 315, 'solver': 'sgd'}\n",
      "MEAN: 0.134252 (STD: 0.057890) with: {'activation': 'relu', 'batch_size': 93, 'learning_rate_init': 0.050801668416747582, 'max_iter': 424, 'solver': 'sgd'}\n",
      "MEAN: 0.103677 (STD: 0.002883) with: {'activation': 'relu', 'batch_size': 57, 'learning_rate_init': 0.071559549350860244, 'max_iter': 256, 'solver': 'sgd'}\n",
      "MEAN: 0.148687 (STD: 0.084837) with: {'activation': 'relu', 'batch_size': 84, 'learning_rate_init': 0.075064253220421817, 'max_iter': 259, 'solver': 'adam'}\n",
      "MEAN: 0.180625 (STD: 0.066746) with: {'activation': 'relu', 'batch_size': 65, 'learning_rate_init': 0.042138756967752516, 'max_iter': 486, 'solver': 'sgd'}\n",
      "MEAN: 0.465437 (STD: 0.109599) with: {'activation': 'tanh', 'batch_size': 72, 'learning_rate_init': 0.028763680699625274, 'max_iter': 447, 'solver': 'adam'}\n",
      "MEAN: 0.233492 (STD: 0.116033) with: {'activation': 'relu', 'batch_size': 82, 'learning_rate_init': 0.056554138142289302, 'max_iter': 418, 'solver': 'adam'}\n",
      "MEAN: 0.179616 (STD: 0.088049) with: {'activation': 'relu', 'batch_size': 60, 'learning_rate_init': 0.02914440534560462, 'max_iter': 213, 'solver': 'sgd'}\n",
      "MEAN: 0.142515 (STD: 0.071866) with: {'activation': 'relu', 'batch_size': 55, 'learning_rate_init': 0.063150036314712416, 'max_iter': 390, 'solver': 'adam'}\n",
      "MEAN: 0.124515 (STD: 0.036755) with: {'activation': 'relu', 'batch_size': 72, 'learning_rate_init': 0.085783736700366736, 'max_iter': 208, 'solver': 'sgd'}\n",
      "MEAN: 0.292436 (STD: 0.214032) with: {'activation': 'relu', 'batch_size': 75, 'learning_rate_init': 0.024708533615506425, 'max_iter': 222, 'solver': 'adam'}\n",
      "MEAN: 0.352207 (STD: 0.239558) with: {'activation': 'relu', 'batch_size': 79, 'learning_rate_init': 0.024473520295283092, 'max_iter': 483, 'solver': 'adam'}\n",
      "MEAN: 0.438430 (STD: 0.116009) with: {'activation': 'tanh', 'batch_size': 85, 'learning_rate_init': 0.073515633248869214, 'max_iter': 362, 'solver': 'sgd'}\n",
      "MEAN: 0.491920 (STD: 0.144108) with: {'activation': 'tanh', 'batch_size': 80, 'learning_rate_init': 0.054211000952316568, 'max_iter': 310, 'solver': 'adam'}\n",
      "MEAN: 0.478023 (STD: 0.132332) with: {'activation': 'tanh', 'batch_size': 88, 'learning_rate_init': 0.037033794410535961, 'max_iter': 260, 'solver': 'adam'}\n",
      "MEAN: 0.868393 (STD: 0.022981) with: {'activation': 'relu', 'batch_size': 79, 'learning_rate_init': 0.0019578074034639174, 'max_iter': 495, 'solver': 'adam'}\n",
      "MEAN: 0.552914 (STD: 0.111662) with: {'activation': 'tanh', 'batch_size': 80, 'learning_rate_init': 0.044406756690231433, 'max_iter': 354, 'solver': 'sgd'}\n",
      "MEAN: 0.470961 (STD: 0.148581) with: {'activation': 'tanh', 'batch_size': 57, 'learning_rate_init': 0.052328188573405821, 'max_iter': 204, 'solver': 'adam'}\n"
     ]
    },
    {
     "name": "stderr",
     "output_type": "stream",
     "text": [
      "C:\\Users\\Buomsoo\\Anaconda3\\lib\\site-packages\\sklearn\\model_selection\\_search.py:667: DeprecationWarning: The grid_scores_ attribute was deprecated in version 0.18 in favor of the more elaborate cv_results_ attribute. The grid_scores_ attribute will not be available from 0.20\n",
      "  DeprecationWarning)\n"
     ]
    }
   ],
   "source": [
    "# print out accuracy results and model setting\n",
    "print(\"Best model: %s with accuracy of %f\" % (random_result.best_params_, random_result.best_score_))\n",
    "for params, mean_score, scores in random_result.grid_scores_:\n",
    "    print(\"MEAN: %f (STD: %f) with: %r\" % (scores.mean(), scores.std(), params))"
   ]
  }
 ],
 "metadata": {
  "kernelspec": {
   "display_name": "Python 3",
   "language": "python",
   "name": "python3"
  },
  "language_info": {
   "codemirror_mode": {
    "name": "ipython",
    "version": 3
   },
   "file_extension": ".py",
   "mimetype": "text/x-python",
   "name": "python",
   "nbconvert_exporter": "python",
   "pygments_lexer": "ipython3",
   "version": "3.6.1"
  }
 },
 "nbformat": 4,
 "nbformat_minor": 2
}
